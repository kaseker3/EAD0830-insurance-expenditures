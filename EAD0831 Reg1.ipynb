{
 "cells": [
  {
   "cell_type": "code",
   "execution_count": 9,
   "id": "c2286a66-0425-44ce-885e-c6487f9f9dd2",
   "metadata": {},
   "outputs": [],
   "source": [
    "# Importando os pacotes necessários para análise da base de dados 'insurance'\n",
    "\n",
    "import pandas as pd\n",
    "import numpy as np\n",
    "import statsmodels.api as sm\n",
    "from sklearn.linear_model import Ridge\n",
    "from sklearn.model_selection import train_test_split\n",
    "from sklearn.metrics import mean_squared_error, r2_score"
   ]
  },
  {
   "cell_type": "code",
   "execution_count": 10,
   "id": "1dcc008f-16c6-4006-9614-dee09ea1a476",
   "metadata": {},
   "outputs": [
    {
     "name": "stdout",
     "output_type": "stream",
     "text": [
      "               age          sex          bmi     children       smoker  \\\n",
      "count  1338.000000  1338.000000  1338.000000  1338.000000  1338.000000   \n",
      "mean     39.207025     0.494768    30.665471     1.094918     0.204783   \n",
      "std      14.049960     0.500160     6.098382     1.205493     0.403694   \n",
      "min      18.000000     0.000000    16.000000     0.000000     0.000000   \n",
      "25%      27.000000     0.000000    26.300000     0.000000     0.000000   \n",
      "50%      39.000000     0.000000    30.400000     1.000000     0.000000   \n",
      "75%      51.000000     1.000000    34.700000     2.000000     0.000000   \n",
      "max      64.000000     1.000000    53.100000     5.000000     1.000000   \n",
      "\n",
      "           expenses    northeast    northwest    southeast    southwest  \n",
      "count   1338.000000  1338.000000  1338.000000  1338.000000  1338.000000  \n",
      "mean   13270.422414     0.242152     0.242900     0.272048     0.242900  \n",
      "std    12110.011240     0.428546     0.428995     0.445181     0.428995  \n",
      "min     1121.870000     0.000000     0.000000     0.000000     0.000000  \n",
      "25%     4740.287500     0.000000     0.000000     0.000000     0.000000  \n",
      "50%     9382.030000     0.000000     0.000000     0.000000     0.000000  \n",
      "75%    16639.915000     0.000000     0.000000     1.000000     0.000000  \n",
      "max    63770.430000     1.000000     1.000000     1.000000     1.000000  \n",
      "                age       sex       bmi  children    smoker  expenses  \\\n",
      "age        1.000000  0.020856  0.109341  0.042469 -0.025019  0.299008   \n",
      "sex        0.020856  1.000000 -0.046380 -0.017163 -0.076185 -0.057292   \n",
      "bmi        0.109341 -0.046380  1.000000  0.012645  0.003968  0.198576   \n",
      "children   0.042469 -0.017163  0.012645  1.000000  0.007673  0.067998   \n",
      "smoker    -0.025019 -0.076185  0.003968  0.007673  1.000000  0.787251   \n",
      "expenses   0.299008 -0.057292  0.198576  0.067998  0.787251  1.000000   \n",
      "northeast  0.002475  0.002425 -0.138091 -0.022808  0.002811  0.006349   \n",
      "northwest -0.000407  0.011156 -0.135992  0.024806 -0.036945 -0.039905   \n",
      "southeast -0.011642 -0.017117  0.270144 -0.023066  0.068498  0.073982   \n",
      "southwest  0.010016  0.004184 -0.006398  0.021914 -0.036945 -0.043210   \n",
      "\n",
      "           northeast  northwest  southeast  southwest  \n",
      "age         0.002475  -0.000407  -0.011642   0.010016  \n",
      "sex         0.002425   0.011156  -0.017117   0.004184  \n",
      "bmi        -0.138091  -0.135992   0.270144  -0.006398  \n",
      "children   -0.022808   0.024806  -0.023066   0.021914  \n",
      "smoker      0.002811  -0.036945   0.068498  -0.036945  \n",
      "expenses    0.006349  -0.039905   0.073982  -0.043210  \n",
      "northeast   1.000000  -0.320177  -0.345561  -0.320177  \n",
      "northwest  -0.320177   1.000000  -0.346265  -0.320829  \n",
      "southeast  -0.345561  -0.346265   1.000000  -0.346265  \n",
      "southwest  -0.320177  -0.320829  -0.346265   1.000000  \n",
      "Quantidade de indivíduos do sexo 1: 662\n",
      "     children      expenses\n",
      "sex                        \n",
      "0    1.115385  13956.751420\n",
      "1    1.074018  12569.578897\n"
     ]
    }
   ],
   "source": [
    "# Carregando a base de dados do arquivo xlsx\n",
    "dados = pd.read_excel('C:/Users/mclar/Downloads/Insurance.xlsx')\n",
    "\n",
    "# 1. Avaliando as Estatísticas e Correlações\n",
    "print(dados.describe())  # Estatísticas descritivas\n",
    "print(dados.corr())  # Correlações entre as variáveis\n",
    "\n",
    "# Análise por sexo\n",
    "quantidade_sex_1 = dados[dados['sex'] == 1].shape[0]\n",
    "print(\"Quantidade de indivíduos do sexo 1:\", quantidade_sex_1)\n",
    "medias_por_sexo = dados.groupby('sex').agg({'children': 'mean', 'expenses': 'mean'})\n",
    "print(medias_por_sexo)"
   ]
  },
  {
   "cell_type": "code",
   "execution_count": 11,
   "id": "ee1a2f20-414e-4a22-90d7-6f114841ad23",
   "metadata": {},
   "outputs": [
    {
     "name": "stdout",
     "output_type": "stream",
     "text": [
      "                            OLS Regression Results                            \n",
      "==============================================================================\n",
      "Dep. Variable:               expenses   R-squared:                       0.751\n",
      "Model:                            OLS   Adj. R-squared:                  0.749\n",
      "Method:                 Least Squares   F-statistic:                     500.9\n",
      "Date:                Mon, 29 Apr 2024   Prob (F-statistic):               0.00\n",
      "Time:                        12:16:33   Log-Likelihood:                -13548.\n",
      "No. Observations:                1338   AIC:                         2.711e+04\n",
      "Df Residuals:                    1329   BIC:                         2.716e+04\n",
      "Df Model:                           8                                         \n",
      "Covariance Type:            nonrobust                                         \n",
      "==============================================================================\n",
      "                 coef    std err          t      P>|t|      [0.025      0.975]\n",
      "------------------------------------------------------------------------------\n",
      "const      -1.013e+04    791.551    -12.795      0.000   -1.17e+04   -8575.045\n",
      "age          256.8392     11.899     21.586      0.000     233.497     280.181\n",
      "sex          131.3520    332.935      0.395      0.693    -521.784     784.488\n",
      "bmi          339.2899     28.598     11.864      0.000     283.187     395.393\n",
      "smoker      2.385e+04    413.139     57.723      0.000     2.3e+04    2.47e+04\n",
      "children     475.6889    137.800      3.452      0.001     205.360     746.017\n",
      "northeast  -1945.0446    334.577     -5.813      0.000   -2601.402   -1288.687\n",
      "northwest  -2297.8347    335.057     -6.858      0.000   -2955.132   -1640.537\n",
      "southeast  -2980.6403    386.086     -7.720      0.000   -3738.045   -2223.236\n",
      "southwest  -2904.3504    352.293     -8.244      0.000   -3595.462   -2213.238\n",
      "==============================================================================\n",
      "Omnibus:                      300.499   Durbin-Watson:                   2.088\n",
      "Prob(Omnibus):                  0.000   Jarque-Bera (JB):              719.382\n",
      "Skew:                           1.212   Prob(JB):                    6.14e-157\n",
      "Kurtosis:                       5.652   Cond. No.                     2.41e+17\n",
      "==============================================================================\n",
      "\n",
      "Notes:\n",
      "[1] Standard Errors assume that the covariance matrix of the errors is correctly specified.\n",
      "[2] The smallest eigenvalue is 6.05e-29. This might indicate that there are\n",
      "strong multicollinearity problems or that the design matrix is singular.\n"
     ]
    }
   ],
   "source": [
    "# 2. Selecionando as Variáveis (supondo que age, bmi, smoker, e children são as variáveis explicativas)\n",
    "X = dados[['age', 'sex', 'bmi', 'smoker', 'children', 'northeast', 'northwest', 'southeast', 'southwest' ]]  # Variáveis explicativas\n",
    "y = dados['expenses']  # Variável dependente\n",
    "\n",
    "# 3. Estimando o Modelo de Regressão\n",
    "X = sm.add_constant(X)  # Adicionando uma coluna de uns para o termo constante\n",
    "modelo = sm.OLS(y, X).fit()  # Estimando o modelo de regressão\n",
    "\n",
    "# 4. Análise de Diagnóstico do Modelo\n",
    "print(modelo.summary())  # Resumo do modelo para análise de diagnóstico"
   ]
  },
  {
   "cell_type": "code",
   "execution_count": 12,
   "id": "6b5542d4",
   "metadata": {},
   "outputs": [
    {
     "name": "stdout",
     "output_type": "stream",
     "text": [
      "const       -10127.869905\n",
      "age            256.839171\n",
      "sex            131.352014\n",
      "bmi            339.289863\n",
      "smoker       23847.476695\n",
      "children       475.688916\n",
      "northeast    -1945.044570\n",
      "northwest    -2297.834665\n",
      "southeast    -2980.640271\n",
      "southwest    -2904.350399\n",
      "dtype: float64\n"
     ]
    }
   ],
   "source": [
    "# 5. Interpretando os Coeficientes Estimadospor OLS\n",
    "print(modelo.params)  # Coeficientes estimados do modelo"
   ]
  },
  {
   "cell_type": "code",
   "execution_count": 14,
   "id": "15ea9217",
   "metadata": {},
   "outputs": [
    {
     "name": "stdout",
     "output_type": "stream",
     "text": [
      "Mean Squared Error (MSE): 33646045.77642958\n",
      "R-squared (R²): 0.7832765204024632\n",
      "Coeficientes do Modelo:\n",
      "const: 0.0\n",
      "age: 256.7624766134751\n",
      "sex: 10.641432527164723\n",
      "bmi: 337.13480362050865\n",
      "smoker: 23514.207456744865\n",
      "children: 426.17413565777224\n",
      "northeast: 458.7047975994694\n",
      "northwest: 85.78620561927535\n",
      "southeast: -193.26471997307402\n",
      "southwest: -351.22628324666266\n"
     ]
    }
   ],
   "source": [
    "# 6. Modelo com Regularização (Ridge Regression)\n",
    "# Dividindo os dados em conjunto de treinamento e teste\n",
    "X_train, X_test, y_train, y_test = train_test_split(X, y, test_size=0.2, random_state=42)\n",
    "\n",
    "# Inicializar o modelo de Ridge Regression\n",
    "ridge_model = Ridge(alpha=1.0)  \n",
    "ridge_model.fit(X_train, y_train)\n",
    "\n",
    "# Fazendo previsões com o conjunto de teste\n",
    "y_pred = ridge_model.predict(X_test)\n",
    "\n",
    "# Calculando as métricas de desempenho do modelo\n",
    "mse = mean_squared_error(y_test, y_pred)\n",
    "r2 = r2_score(y_test, y_pred)\n",
    "\n",
    "# Imprimindo as métricas de desempenho\n",
    "print(f\"Mean Squared Error (MSE): {mse}\")\n",
    "print(f\"R-squared (R²): {r2}\")\n",
    "\n",
    "# Imprimindo os coeficientes do modelo\n",
    "print(\"Coeficientes do Modelo:\")\n",
    "for feature, coef in zip(X.columns, ridge_model.coef_):\n",
    "    print(f\"{feature}: {coef}\")"
   ]
  },
  {
   "cell_type": "code",
   "execution_count": 15,
   "id": "b298ab4c",
   "metadata": {},
   "outputs": [
    {
     "name": "stdout",
     "output_type": "stream",
     "text": [
      "Teste F para o modelo com regularização (Ridge Regression):\n",
      "<F test: F=3340.3349364488886, p=0.0, df_denom=1.33e+03, df_num=1>\n"
     ]
    }
   ],
   "source": [
    "f_test = modelo.f_test(ridge_model.coef_)\n",
    "print(\"Teste F para o modelo com regularização (Ridge Regression):\")\n",
    "print(f_test)"
   ]
  }
 ],
 "metadata": {
  "kernelspec": {
   "display_name": "Python 3 (ipykernel)",
   "language": "python",
   "name": "python3"
  },
  "language_info": {
   "codemirror_mode": {
    "name": "ipython",
    "version": 3
   },
   "file_extension": ".py",
   "mimetype": "text/x-python",
   "name": "python",
   "nbconvert_exporter": "python",
   "pygments_lexer": "ipython3",
   "version": "3.11.5"
  }
 },
 "nbformat": 4,
 "nbformat_minor": 5
}
